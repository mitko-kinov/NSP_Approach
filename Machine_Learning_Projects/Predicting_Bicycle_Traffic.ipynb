{
 "cells": [
  {
   "cell_type": "markdown",
   "metadata": {},
   "source": [
    "## Predicting_Bicycle_Traffic:"
   ]
  },
  {
   "cell_type": "markdown",
   "metadata": {},
   "source": [
    "- As an example, let’s take a look at whether we can predict the number of bicycle trips\n",
    "across Seattle’s Fremont Bridge based on weather, season, and other factors. We have\n",
    "seen this data already in “Working with Time Series” on page 188.\n",
    "\n",
    "- In this section, we will join the bike data with another dataset, and try to determine\n",
    "the extent to which weather and seasonal factors—temperature, precipitation, and\n",
    "daylight hours—affect the volume of bicycle traffic through this corridor. Fortunately,\n",
    "the NOAA makes available their daily weather station data (I used station ID\n",
    "USW00024233) and we can easily use Pandas to join the two data sources. We will\n",
    "perform a simple linear regression to relate weather and other information to bicycle\n",
    "counts, in order to estimate how a change in any one of these parameters affects the\n",
    "number of riders on a given day.\n",
    "\n",
    "- In particular, this is an example of how the tools of Scikit-Learn can be used in a stat‐\n",
    "istical modeling framework, in which the parameters of the model are assumed to\n",
    "have interpretable meaning. As discussed previously, this is not a standard approach\n",
    "within machine learning, but such interpretation is possible for some models.\n"
   ]
  },
  {
   "cell_type": "code",
   "execution_count": 1,
   "metadata": {},
   "outputs": [],
   "source": [
    "# Importing libraries:\n",
    "\n",
    "import pandas as pd"
   ]
  },
  {
   "cell_type": "code",
   "execution_count": null,
   "metadata": {},
   "outputs": [],
   "source": [
    "# Loding the two datasets, indexing by data:\n",
    "\n",
    "counts = pd.read"
   ]
  }
 ],
 "metadata": {
  "kernelspec": {
   "display_name": "Python 3",
   "language": "python",
   "name": "python3"
  },
  "language_info": {
   "codemirror_mode": {
    "name": "ipython",
    "version": 3
   },
   "file_extension": ".py",
   "mimetype": "text/x-python",
   "name": "python",
   "nbconvert_exporter": "python",
   "pygments_lexer": "ipython3",
   "version": "3.7.6"
  }
 },
 "nbformat": 4,
 "nbformat_minor": 4
}
